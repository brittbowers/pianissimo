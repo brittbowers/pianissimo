{
 "cells": [
  {
   "cell_type": "markdown",
   "metadata": {},
   "source": [
    "## Exploring Music21"
   ]
  },
  {
   "cell_type": "code",
   "execution_count": 1,
   "metadata": {},
   "outputs": [],
   "source": [
    "from music21 import *"
   ]
  },
  {
   "cell_type": "code",
   "execution_count": 11,
   "metadata": {},
   "outputs": [
    {
     "data": {
      "image/png": "[encoded data removed]",
      "text/plain": [
       "<IPython.core.display.Image object>"
      ]
     },
     "metadata": {
      "image/png": {
       "height": 36,
       "width": 154
      }
     },
     "output_type": "display_data"
    }
   ],
   "source": [
    "n = note.Note('D#3')\n",
    "n.duration.type = 'half'\n",
    "n.show()"
   ]
  },
  {
   "cell_type": "code",
   "execution_count": 3,
   "metadata": {},
   "outputs": [
    {
     "data": {
      "image/png": "[encoded data removed]",
      "text/plain": [
       "<IPython.core.display.Image object>"
      ]
     },
     "metadata": {
      "image/png": {
       "height": 50,
       "width": 331
      }
     },
     "output_type": "display_data"
    }
   ],
   "source": [
    "littleMelody = converter.parse(\"tinynotation: 3/4 c4 d8 f g16 a g f#\")\n",
    "littleMelody.show()"
   ]
  },
  {
   "cell_type": "code",
   "execution_count": 4,
   "metadata": {},
   "outputs": [
    {
     "data": {
      "text/html": [
       "\n",
       "                <div id='midiPlayerDiv264'></div>\n",
       "                <link rel=\"stylesheet\" href=\"//cuthbertLab.github.io/music21j/css/m21.css\"\n",
       "                    type=\"text/css\" />\n",
       "                <script>\n",
       "                require.config({\n",
       "                    paths: {'music21': '//cuthbertLab.github.io/music21j/src/music21'}\n",
       "                });\n",
       "                require(['music21'], function() {\n",
       "                               mp = new music21.miditools.MidiPlayer();\n",
       "                               mp.addPlayer('#midiPlayerDiv264');\n",
       "                               mp.base64Load('data:audio/midi;base64,TVRoZAAAAAYAAQABBABNVHJrAAAAVAD/AwAA4ABAAP9YBAMCGAgAkDxaiACAPAAAkD5ahACAPgAAkEFahACAQQAAkENaggCAQwAAkEVaggCARQAAkENaggCAQwAAkEJaggCAQgCIAP8vAA==');\n",
       "                        });\n",
       "                </script>"
      ],
      "text/plain": [
       "<IPython.core.display.HTML object>"
      ]
     },
     "metadata": {},
     "output_type": "display_data"
    }
   ],
   "source": [
    "littleMelody.show('midi')"
   ]
  },
  {
   "cell_type": "code",
   "execution_count": 6,
   "metadata": {},
   "outputs": [],
   "source": [
    "import random\n",
    "# prettymidi package"
   ]
  },
  {
   "cell_type": "markdown",
   "metadata": {},
   "source": [
    "**ABC Notation**:\n",
    "\n",
    "Used more for folk and traditional music. Represents music as ABD | DGE | etc\n",
    "\n",
    "\n",
    "**Midi (Musical Instrument Digital Interface) Format**:\n",
    "\n",
    "**Note On** signals that a key has been pressed or a note on another instrument (like a MIDI guitar or clarinet) has been played. The Note On message includes instructions for what key was pressed and at what velocity (how hard the note was played).\n",
    "**Note Off** signals that the key has been released or the note is done playing.\n",
    "**Polyphonic Key Pressure** is a measurement of how hard a key is pressed once it \"bottoms out.\" On some keyboards, this adds vibrato or other effects to the note.\n",
    "**Control Change** indicates that a controller -- perhaps a foot pedal or a fader knob -- has been pressed or turned. The control change message includes the number assigned to the controller and the value of the change (0-127).\n",
    "**Pitch Wheel Change** signals that the pitch of the note has been bent with the keyboard's pitch wheel."
   ]
  },
  {
   "cell_type": "markdown",
   "metadata": {},
   "source": [
    "## Reading in a Midi File"
   ]
  },
  {
   "cell_type": "markdown",
   "metadata": {},
   "source": [
    "Parsing MIDI Files\n",
    "MIDI input and output is handled in the same was other formats. Simply call the music21.converter.parse() function on the desired file path or URL.\n",
    "\n",
    "Remember (or learn if you haven’t yet), that MIDI has no information about enharmonic spelling (C# and Db are the same), and that detecting the lengths of notes can be difficult. Music21 does very well with MIDI files that were created in notation software or sequencing software, but has a harder time handling MIDI files created by recording live input. For those files, we suggest converting the MIDI files in software such as Finale that has a more sophisticated MIDI to MusicXML conversion routine."
   ]
  },
  {
   "cell_type": "code",
   "execution_count": 2,
   "metadata": {},
   "outputs": [],
   "source": [
    "score = converter.parse('data/chpn_op66_format0.midi', format = 'midi')"
   ]
  },
  {
   "cell_type": "code",
   "execution_count": 8,
   "metadata": {},
   "outputs": [
    {
     "name": "stdout",
     "output_type": "stream",
     "text": [
      "None\n"
     ]
    }
   ],
   "source": [
    "part_stream = score.parts.stream()\n",
    "for part in part_stream:\n",
    "    print(part.partName)"
   ]
  },
  {
   "cell_type": "code",
   "execution_count": 9,
   "metadata": {},
   "outputs": [
    {
     "data": {
      "text/plain": [
       "<music21.stream.iterator.StreamIterator for Score:0xa18401d10 @:0>"
      ]
     },
     "execution_count": 9,
     "metadata": {},
     "output_type": "execute_result"
    }
   ],
   "source": [
    "score.parts"
   ]
  },
  {
   "cell_type": "markdown",
   "metadata": {},
   "source": [
    "Now have a stream object, but the subobject is Score"
   ]
  },
  {
   "cell_type": "code",
   "execution_count": 10,
   "metadata": {},
   "outputs": [
    {
     "data": {
      "text/plain": [
       "('Score', 'Stream', 'StreamCoreMixin', 'Music21Object', 'object')"
      ]
     },
     "execution_count": 10,
     "metadata": {},
     "output_type": "execute_result"
    }
   ],
   "source": [
    "partStream = score.parts.stream()\n",
    "partStream.classes"
   ]
  },
  {
   "cell_type": "code",
   "execution_count": 11,
   "metadata": {},
   "outputs": [
    {
     "data": {
      "text/plain": [
       "<music21.stream.Score 0xa18aca450>"
      ]
     },
     "execution_count": 11,
     "metadata": {},
     "output_type": "execute_result"
    }
   ],
   "source": [
    "score.measures(2,5)"
   ]
  },
  {
   "cell_type": "code",
   "execution_count": 12,
   "metadata": {},
   "outputs": [
    {
     "data": {
      "text/plain": [
       "<music21.stream.iterator.StreamIterator for Score:0xa18401d10_flat @:0>"
      ]
     },
     "execution_count": 12,
     "metadata": {},
     "output_type": "execute_result"
    }
   ],
   "source": [
    "score.flat.notes"
   ]
  },
  {
   "cell_type": "code",
   "execution_count": 29,
   "metadata": {},
   "outputs": [
    {
     "data": {
      "text/plain": [
       "['G#2', 'G#3', 'C#2', 'C#3', 'C#4', 'E4', 'G#3', 'C#3', 'C#4', 'E4']"
      ]
     },
     "execution_count": 29,
     "metadata": {},
     "output_type": "execute_result"
    }
   ],
   "source": [
    "#Look at the first few notes\n",
    "[str(p) for p in score.parts[0].pitches[0:10]]"
   ]
  },
  {
   "cell_type": "code",
   "execution_count": 34,
   "metadata": {},
   "outputs": [
    {
     "data": {
      "text/plain": [
       "[2, 3, 2, 3, 4, 4, 3, 3, 4, 4]"
      ]
     },
     "execution_count": 34,
     "metadata": {},
     "output_type": "execute_result"
    }
   ],
   "source": [
    "#Looking at a few of the octaves\n",
    "[p.octave for p in score.parts[0].pitches[0:10]]"
   ]
  },
  {
   "cell_type": "code",
   "execution_count": 13,
   "metadata": {},
   "outputs": [],
   "source": [
    "import matplotlib.pyplot as plt\n",
    "import matplotlib.lines as mlines"
   ]
  },
  {
   "cell_type": "code",
   "execution_count": 16,
   "metadata": {},
   "outputs": [
    {
     "data": {
      "image/png": "[encoded data removed]",
      "text/plain": [
       "<Figure size 720x432 with 1 Axes>"
      ]
     },
     "metadata": {
      "image/png": {
       "height": 382,
       "width": 588
      }
     },
     "output_type": "display_data"
    }
   ],
   "source": [
    "score.measures(2,4).plot('pianoroll')"
   ]
  },
  {
   "cell_type": "code",
   "execution_count": 19,
   "metadata": {},
   "outputs": [
    {
     "name": "stdout",
     "output_type": "stream",
     "text": [
      "56.0\n",
      "61.0\n",
      "64.0\n",
      "61.0\n",
      "56.0\n",
      "49.0\n",
      "56.0\n",
      "61.0\n",
      "64.0\n",
      "61.0\n",
      "56.0\n",
      "49.0\n",
      "56.0\n",
      "61.0\n",
      "64.0\n",
      "61.0\n",
      "56.0\n",
      "49.0\n",
      "56.0\n",
      "61.0\n",
      "64.0\n",
      "61.0\n",
      "56.0\n"
     ]
    }
   ],
   "source": [
    "for nt in score.measures(2,4).flat.notes:\n",
    "    if isinstance(nt, note.Note):\n",
    "        print(nt.pitch.ps)"
   ]
  },
  {
   "cell_type": "code",
   "execution_count": 14,
   "metadata": {},
   "outputs": [
    {
     "data": {
      "image/png": "[encoded data removed]",
      "text/plain": [
       "<Figure size 864x360 with 1 Axes>"
      ]
     },
     "metadata": {
      "image/png": {
       "height": 331,
       "width": 717
      },
      "needs_background": "light"
     },
     "output_type": "display_data"
    }
   ],
   "source": [
    "def extract_notes(midi_part):\n",
    "    parent_element = []\n",
    "    ret = []\n",
    "    for nt in midi_part.flat.notes: \n",
    "        # Get each note in the midi score format flattened (meaning collapse all parts together in the score)\n",
    "        if isinstance(nt, note.Note):\n",
    "            # Returns whether the item is an instance of class \"note\"\n",
    "            ret.append(max(0.0, nt.pitch.ps))\n",
    "            parent_element.append(nt)\n",
    "        elif isinstance(nt, chord.Chord):\n",
    "            for pitch in nt.pitches:\n",
    "                ret.append(max(0.0, pitch.ps))\n",
    "                parent_element.append(nt)\n",
    "    \n",
    "    return ret, parent_element\n",
    "\n",
    "def print_parts_countour(midi):\n",
    "    fig = plt.figure(figsize=(12, 5))\n",
    "    ax = fig.add_subplot(1, 1, 1)\n",
    "    minPitch = pitch.Pitch('C10').ps\n",
    "    maxPitch = 0\n",
    "    xMax = 0\n",
    "    \n",
    "    # Drawing notes.\n",
    "    for i in range(len(midi.parts)):\n",
    "        top = midi.parts[i].flat.notes                  \n",
    "        y, parent_element = extract_notes(top)\n",
    "        if (len(y) < 1): continue\n",
    "            \n",
    "        x = [n.offset for n in parent_element]\n",
    "        ax.scatter(x, y, alpha=0.6, s=7)\n",
    "        \n",
    "        aux = min(y)\n",
    "        if (aux < minPitch): minPitch = aux\n",
    "            \n",
    "        aux = max(y)\n",
    "        if (aux > maxPitch): maxPitch = aux\n",
    "            \n",
    "        aux = max(x)\n",
    "        if (aux > xMax): xMax = aux\n",
    "    \n",
    "    for i in range(1, 10):\n",
    "        linePitch = pitch.Pitch('C{0}'.format(i)).ps\n",
    "        if (linePitch > minPitch and linePitch < maxPitch):\n",
    "            ax.add_line(mlines.Line2D([0, xMax], [linePitch, linePitch], color='red', alpha=0.1))            \n",
    "\n",
    "    plt.ylabel(\"Note index (each octave has 12 notes)\")\n",
    "    plt.xlabel(\"Number of quarter notes (beats)\")\n",
    "    plt.title('Voices motion approximation, each color is a different instrument, red lines show each octave')\n",
    "    plt.show()\n",
    "\n",
    "# Focusing only on 6 first measures to make it easier to understand.\n",
    "print_parts_countour(score.measures(0, 6))"
   ]
  },
  {
   "cell_type": "markdown",
   "metadata": {},
   "source": [
    "**Pitch** refers to the frequency of sound (A,B,C,etc)\n",
    "**Octave** refers to which set of pitches\n",
    "**Offset** refers to where the note is located in the piece\n",
    "**Chord Objects** - container for set of notes played at same time"
   ]
  },
  {
   "cell_type": "markdown",
   "metadata": {},
   "source": [
    "## Libraries to Manipulate Midi Files:\n",
    "\n",
    "- pretty_midi\n",
    "    start time, end time, pitch, velocity\n",
    "    Below is example. Midi Number refers to pitch\n",
    "- music21\n",
    "- mido"
   ]
  },
  {
   "cell_type": "markdown",
   "metadata": {},
   "source": [
    "![pic](pics/midi_img.gif)"
   ]
  },
  {
   "cell_type": "markdown",
   "metadata": {},
   "source": [
    "**Control Changes in Midi Files**:\n",
    "0 Bank Select (MSB)\n",
    "1 Modulation Wheel\n",
    "2 Breath controller\n",
    "3 Undefined\n",
    "4 Foot Pedal (MSB)\n",
    "5 Portamento Time (MSB)\n",
    "6 Data Entry (MSB) - cc100=0 & cc101=0 is pitch bend range\n",
    "7 Volume (MSB)\n",
    "8 Balance (MSB)\n",
    "9 Undefined\n",
    "10 Pan position (MSB)\n",
    "11 Expression (MSB)\n",
    "12 Effect Control 1 (MSB)\n",
    "13 Effect Control 2 (MSB)\n",
    "14 Undefined\n",
    "15 Undefined\n",
    "16 Ribbon Controller or General Purpose Slider 1\n",
    "17 Knob 1 or General Purpose Slider 2\n",
    "18 General Purpose Slider 3\n",
    "19 Knob 2 General Purpose Slider 4\n",
    "20 Knob 3 or Undefined\n",
    "21 Knob 4 or Undefined\n",
    "22-31 undefined\n",
    "32 Bank Select (LSB) \n",
    "33 Modulation Wheel (LSB)\n",
    "34 Breath controller (LSB)\n",
    "35 Undefined\n",
    "36 Foot Pedal (LSB)\n",
    "37 Portamento Time (LSB)\n",
    "38 Data Entry (LSB)\n",
    "39 Volume (LSB)\n",
    "40 Balance (LSB)\n",
    "41 Undefined\n",
    "42 Pan position (LSB)\n",
    "43 Expression (LSB)\n",
    "44 Effect Control 1 (LSB) \n",
    "45 Effect Control 2 (LSB)\n",
    "46-63 Undefined.\n",
    "64 Hold/Sustain Pedal (on/off) \n",
    "65 Portamento (on/off)\n",
    "66 Sustenuto Pedal (on/off)\n",
    "67 Soft Pedal (on/off)\n",
    "68 Legato Pedal (on/off)\n",
    "69 Hold 2 Pedal (on/off)\n",
    "70 Sound Variation\n",
    "71 Resonance (Timbre)\n",
    "72 Sound Release Time\n",
    "73 Sound Attack Time\n",
    "74 Frequency Cutoff \n",
    "75 Sound Control 6\n",
    "76 Sound Control 7\n",
    "77 Sound Control 8\n",
    "78 Sound Control 9\n",
    "79 Sound Control 10\n",
    "80 Decay or General Purpose Button 1 (on/off) \n",
    "81 Hi Pass Filter Frequency or General Purpose Button 2 (on/off) \n",
    "82 General Purpose Button 3 (on/off) \n",
    "83 General Purpose Button 4 (on/off)\n",
    "84-90 Undefined\n",
    "91 Reverb Level\n",
    "92 Tremolo Level\n",
    "93 Chorus Level\n",
    "94 Celeste Level or Detune\n",
    "95 Phaser Level\n",
    "96 Data Button increment\n",
    "97 Data Button decrement\n",
    "98 Non-registered Parameter (LSB)\n",
    "99 Non-registered Parameter (MSB)\n",
    "100 Registered Parameter (LSB)\n",
    "101 Registered Parameter (MSB)\n",
    "102-119 Undefined\n",
    "120 All Sound Off\n",
    "121 All Controllers Off\n",
    "122 Local Keyboard (on/off)\n",
    "123 All Notes Off\n",
    "124 Omni Mode Off\n",
    "125 Omni Mode On\n",
    "126 Mono Operation\n",
    "127 Poly Operation"
   ]
  },
  {
   "cell_type": "code",
   "execution_count": null,
   "metadata": {},
   "outputs": [],
   "source": []
  }
 ],
 "metadata": {
  "kernelspec": {
   "display_name": "Python 3",
   "language": "python",
   "name": "python3"
  },
  "language_info": {
   "codemirror_mode": {
    "name": "ipython",
    "version": 3
   },
   "file_extension": ".py",
   "mimetype": "text/x-python",
   "name": "python",
   "nbconvert_exporter": "python",
   "pygments_lexer": "ipython3",
   "version": "3.7.4"
  }
 },
 "nbformat": 4,
 "nbformat_minor": 4
}
